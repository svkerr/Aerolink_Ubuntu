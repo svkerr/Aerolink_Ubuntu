{
 "metadata": {
  "name": "Aerolink_cluster_analysis"
 },
 "nbformat": 3,
 "nbformat_minor": 0,
 "worksheets": [
  {
   "cells": [
    {
     "cell_type": "markdown",
     "metadata": {},
     "source": [
      "This Aerolink cluster analysis uses the `DBSCAN` density based clustering technique. Because most Aerolink exhibit close to no Aerolink activity, this group forms a large cluster, where most everything else is seen as an outlier. `DBSCAN` has not proven very useful, except as perhaps something similar to a `oneClassSVM` technique."
     ]
    },
    {
     "cell_type": "code",
     "collapsed": false,
     "input": [
      "import numpy as np\n",
      "import pylab as pl\n",
      "import pandas as pd\n",
      "\n",
      "from sklearn.cluster import DBSCAN\n",
      "from sklearn import metrics\n",
      "from sklearn.datasets.samples_generator import make_blobs\n",
      "from sklearn.preprocessing import StandardScaler"
     ],
     "language": "python",
     "metadata": {},
     "outputs": [],
     "prompt_number": 77
    },
    {
     "cell_type": "markdown",
     "metadata": {},
     "source": [
      "Read in data set"
     ]
    },
    {
     "cell_type": "code",
     "collapsed": false,
     "input": [
      "filename = 'fetch_daily_2009_2010'\n",
      "data = np.loadtxt(filename, delimiter=',', dtype=float)"
     ],
     "language": "python",
     "metadata": {},
     "outputs": [],
     "prompt_number": 78
    },
    {
     "cell_type": "code",
     "collapsed": false,
     "input": [
      "#data = np.loadtxt(\"aerolink_fetch_access_20112012.dat\", delimiter=',', dtype=float)"
     ],
     "language": "python",
     "metadata": {},
     "outputs": [],
     "prompt_number": 91
    },
    {
     "cell_type": "code",
     "collapsed": false,
     "input": [
      "data.shape"
     ],
     "language": "python",
     "metadata": {},
     "outputs": [
      {
       "output_type": "pyout",
       "prompt_number": 79,
       "text": [
        "(2082, 366)"
       ]
      }
     ],
     "prompt_number": 79
    },
    {
     "cell_type": "markdown",
     "metadata": {},
     "source": [
      "Remove first column which contains the badge number"
     ]
    },
    {
     "cell_type": "code",
     "collapsed": false,
     "input": [
      "#X = data[:,1:25]\n",
      "X = data[:,1:366]"
     ],
     "language": "python",
     "metadata": {},
     "outputs": [],
     "prompt_number": 80
    },
    {
     "cell_type": "code",
     "collapsed": false,
     "input": [
      "X.shape"
     ],
     "language": "python",
     "metadata": {},
     "outputs": [
      {
       "output_type": "pyout",
       "prompt_number": 81,
       "text": [
        "(2082, 365)"
       ]
      }
     ],
     "prompt_number": 81
    },
    {
     "cell_type": "markdown",
     "metadata": {},
     "source": [
      "Scale the data set:"
     ]
    },
    {
     "cell_type": "code",
     "collapsed": false,
     "input": [
      "Y = StandardScaler().fit_transform(X)"
     ],
     "language": "python",
     "metadata": {},
     "outputs": [],
     "prompt_number": 60
    },
    {
     "cell_type": "heading",
     "level": 3,
     "metadata": {},
     "source": [
      "DBSCAN Clustering"
     ]
    },
    {
     "cell_type": "code",
     "collapsed": false,
     "input": [
      "db = DBSCAN(eps=0.3, min_samples=100).fit(Y)"
     ],
     "language": "python",
     "metadata": {},
     "outputs": [],
     "prompt_number": 43
    },
    {
     "cell_type": "code",
     "collapsed": false,
     "input": [
      "core_samples = db.core_sample_indices_\n",
      "labels=db.labels_"
     ],
     "language": "python",
     "metadata": {},
     "outputs": [],
     "prompt_number": 44
    },
    {
     "cell_type": "code",
     "collapsed": false,
     "input": [
      "count = 0\n",
      "for n in labels:\n",
      "    if n == -1:\n",
      "        count += 1\n",
      "print count"
     ],
     "language": "python",
     "metadata": {},
     "outputs": [
      {
       "output_type": "stream",
       "stream": "stdout",
       "text": [
        "1912\n"
       ]
      }
     ],
     "prompt_number": 45
    },
    {
     "cell_type": "code",
     "collapsed": false,
     "input": [
      "set(labels)"
     ],
     "language": "python",
     "metadata": {},
     "outputs": [
      {
       "output_type": "pyout",
       "prompt_number": 46,
       "text": [
        "set([0.0, -1.0])"
       ]
      }
     ],
     "prompt_number": 46
    },
    {
     "cell_type": "code",
     "collapsed": false,
     "input": [
      "n_clusters_ = len(set(labels)) - (1 if -1 in labels else 0)"
     ],
     "language": "python",
     "metadata": {},
     "outputs": [],
     "prompt_number": 47
    },
    {
     "cell_type": "code",
     "collapsed": false,
     "input": [
      "unique_labels = set(labels)\n",
      "colors = pl.cm.Spectral(np.linspace(0,1,len(unique_labels)))\n",
      "for k, col in zip(unique_labels,colors):\n",
      "    if k == -1:\n",
      "        # black is used for noise\n",
      "        col = 'k'\n",
      "        markersize = 6\n",
      "    class_members = [index[0] for index in np.argwhere(labels == k)]\n",
      "    cluster_core_samples = [index for index in core_samples if labels[index] == k]\n",
      "    for index in class_members:\n",
      "        x = X[index]\n",
      "        if index in core_samples and k != -1:\n",
      "            markersize = 14\n",
      "        else:\n",
      "            markersize = 6\n",
      "        pl.plot(x[0], x[1], 'o', markerfacecolor=col, markeredgecolor='k', markersize=markersize)\n",
      "        \n",
      "pl.title('Estimated number of clusters: %d' % n_clusters_)\n",
      "pl.show()"
     ],
     "language": "python",
     "metadata": {},
     "outputs": [
      {
       "output_type": "display_data",
       "png": "[encoded data removed]"
      }
     ],
     "prompt_number": 48
    },
    {
     "cell_type": "heading",
     "level": 3,
     "metadata": {},
     "source": [
      "K-Means Clustering"
     ]
    },
    {
     "cell_type": "code",
     "collapsed": false,
     "input": [
      "from sklearn import cluster, datasets\n",
      "k_means = cluster.KMeans(k=4)\n",
      "k_means.fit(X) "
     ],
     "language": "python",
     "metadata": {},
     "outputs": [
      {
       "output_type": "stream",
       "stream": "stderr",
       "text": [
        "-c:3: DeprecationWarning: Parameter k has been renamed by 'n_clusters' and will be removed in release 0.14.\n"
       ]
      },
      {
       "output_type": "pyout",
       "prompt_number": 82,
       "text": [
        "KMeans(copy_x=True, init='k-means++', k=4, max_iter=300, n_clusters=4,\n",
        "    n_init=10, n_jobs=1, precompute_distances=True, random_state=None,\n",
        "    tol=0.0001, verbose=0)"
       ]
      }
     ],
     "prompt_number": 82
    },
    {
     "cell_type": "code",
     "collapsed": false,
     "input": [
      "#print k_means.labels_[::10]\n",
      "print k_means.labels_.shape\n",
      "print k_means.labels_[:]\n",
      "print np.mean(k_means.labels_)"
     ],
     "language": "python",
     "metadata": {},
     "outputs": [
      {
       "output_type": "stream",
       "stream": "stdout",
       "text": [
        "(2082,)\n",
        "[0 0 0 ..., 0 0 0]\n",
        "0.0028818443804\n"
       ]
      }
     ],
     "prompt_number": 99
    },
    {
     "cell_type": "markdown",
     "metadata": {},
     "source": [
      "Let's calculate the number of users per cluster:"
     ]
    },
    {
     "cell_type": "code",
     "collapsed": false,
     "input": [
      "my_kmeans_labels=[]\n",
      "for x in k_means.labels_:\n",
      "    my_kmeans_labels.append(x)"
     ],
     "language": "python",
     "metadata": {},
     "outputs": [],
     "prompt_number": 91
    },
    {
     "cell_type": "code",
     "collapsed": false,
     "input": [
      "from collections import Counter\n",
      "label_counts = Counter(my_kmeans_labels)\n",
      "print label_counts.most_common(4)\n",
      "\n"
     ],
     "language": "python",
     "metadata": {},
     "outputs": [
      {
       "output_type": "stream",
       "stream": "stdout",
       "text": [
        "[(0, 2079), (1, 1), (2, 1), (3, 1)]\n"
       ]
      }
     ],
     "prompt_number": 102
    },
    {
     "cell_type": "markdown",
     "metadata": {},
     "source": [
      "**NOTE:** No need to pursue clustering further. With sparse data sets (e.g., daily Aerolink fetch useage), clustering does not add any value."
     ]
    },
    {
     "cell_type": "code",
     "collapsed": false,
     "input": [
      "from time import time\n",
      "import numpy as np\n",
      "import pylab as pl\n",
      "\n",
      "from sklearn import metrics\n",
      "from sklearn.cluster import KMeans\n",
      "from sklearn.datasets import load_digits\n",
      "from sklearn.decomposition import PCA\n",
      "from sklearn.preprocessing import scale\n",
      "\n",
      "np.random.seed(42)\n",
      "\n",
      "data = scale(X)"
     ],
     "language": "python",
     "metadata": {},
     "outputs": [],
     "prompt_number": 25
    },
    {
     "cell_type": "code",
     "collapsed": false,
     "input": [
      "n_samples, n_features = data.shape\n",
      "n_digits = len(np.unique(digits.target))\n",
      "labels = digits.target"
     ],
     "language": "python",
     "metadata": {},
     "outputs": [
      {
       "ename": "NameError",
       "evalue": "name 'digits' is not defined",
       "output_type": "pyerr",
       "traceback": [
        "\u001b[0;31m---------------------------------------------------------------------------\u001b[0m\n\u001b[0;31mNameError\u001b[0m                                 Traceback (most recent call last)",
        "\u001b[0;32m<ipython-input-26-4c06691e9b93>\u001b[0m in \u001b[0;36m<module>\u001b[0;34m()\u001b[0m\n\u001b[1;32m      1\u001b[0m \u001b[0mn_samples\u001b[0m\u001b[0;34m,\u001b[0m \u001b[0mn_features\u001b[0m \u001b[0;34m=\u001b[0m \u001b[0mdata\u001b[0m\u001b[0;34m.\u001b[0m\u001b[0mshape\u001b[0m\u001b[0;34m\u001b[0m\u001b[0m\n\u001b[0;32m----> 2\u001b[0;31m \u001b[0mn_digits\u001b[0m \u001b[0;34m=\u001b[0m \u001b[0mlen\u001b[0m\u001b[0;34m(\u001b[0m\u001b[0mnp\u001b[0m\u001b[0;34m.\u001b[0m\u001b[0munique\u001b[0m\u001b[0;34m(\u001b[0m\u001b[0mdigits\u001b[0m\u001b[0;34m.\u001b[0m\u001b[0mtarget\u001b[0m\u001b[0;34m)\u001b[0m\u001b[0;34m)\u001b[0m\u001b[0;34m\u001b[0m\u001b[0m\n\u001b[0m\u001b[1;32m      3\u001b[0m \u001b[0mlabels\u001b[0m \u001b[0;34m=\u001b[0m \u001b[0mdigits\u001b[0m\u001b[0;34m.\u001b[0m\u001b[0mtarget\u001b[0m\u001b[0;34m\u001b[0m\u001b[0m\n",
        "\u001b[0;31mNameError\u001b[0m: name 'digits' is not defined"
       ]
      }
     ],
     "prompt_number": 26
    },
    {
     "cell_type": "code",
     "collapsed": false,
     "input": [
      "sample_size = 300\n",
      "\n",
      "print(\"n_digits: %d, \\t n_samples %d, \\t n_features %d\"\n",
      "      % (n_digits, n_samples, n_features))\n",
      "\n",
      "\n",
      "print(79 * '_')\n",
      "print('% 9s' % 'init'\n",
      "      '    time  inertia    homo   compl  v-meas     ARI AMI  silhouette')\n",
      "\n",
      "\n",
      "def bench_k_means(estimator, name, data):\n",
      "    t0 = time()\n",
      "    estimator.fit(data)\n",
      "    print('% 9s   %.2fs    %i   %.3f   %.3f   %.3f   %.3f   %.3f    %.3f'\n",
      "          % (name, (time() - t0), estimator.inertia_,\n",
      "             metrics.homogeneity_score(labels, estimator.labels_),\n",
      "             metrics.completeness_score(labels, estimator.labels_),\n",
      "             metrics.v_measure_score(labels, estimator.labels_),\n",
      "             metrics.adjusted_rand_score(labels, estimator.labels_),\n",
      "             metrics.adjusted_mutual_info_score(labels,  estimator.labels_),\n",
      "             metrics.silhouette_score(data, estimator.labels_,\n",
      "                                      metric='euclidean',\n",
      "                                      sample_size=sample_size)))\n",
      "\n",
      "bench_k_means(KMeans(init='k-means++', n_clusters=n_digits, n_init=10),\n",
      "              name=\"k-means++\", data=data)\n",
      "\n",
      "bench_k_means(KMeans(init='random', n_clusters=n_digits, n_init=10),\n",
      "              name=\"random\", data=data)\n",
      "\n",
      "# in this case the seeding of the centers is deterministic, hence we run the\n",
      "# kmeans algorithm only once with n_init=1\n",
      "pca = PCA(n_components=n_digits).fit(data)\n",
      "bench_k_means(KMeans(init=pca.components_, n_clusters=n_digits, n_init=1),\n",
      "              name=\"PCA-based\",\n",
      "              data=data)\n",
      "print(79 * '_')\n",
      "\n",
      "###############################################################################\n",
      "# Visualize the results on PCA-reduced data\n",
      "\n",
      "reduced_data = PCA(n_components=2).fit_transform(data)\n",
      "kmeans = KMeans(init='k-means++', n_clusters=n_digits, n_init=10)\n",
      "kmeans.fit(reduced_data)\n",
      "\n",
      "# Step size of the mesh. Decrease to increase the quality of the VQ.\n",
      "h = .02     # point in the mesh [x_min, m_max]x[y_min, y_max].\n",
      "\n",
      "# Plot the decision boundary. For that, we will assign a color to each\n",
      "x_min, x_max = reduced_data[:, 0].min() + 1, reduced_data[:, 0].max() - 1\n",
      "y_min, y_max = reduced_data[:, 1].min() + 1, reduced_data[:, 1].max() - 1\n",
      "xx, yy = np.meshgrid(np.arange(x_min, x_max, h), np.arange(y_min, y_max, h))\n",
      "\n",
      "# Obtain labels for each point in mesh. Use last trained model.\n",
      "Z = kmeans.predict(np.c_[xx.ravel(), yy.ravel()])\n",
      "\n",
      "# Put the result into a color plot\n",
      "Z = Z.reshape(xx.shape)\n",
      "pl.figure(1)\n",
      "pl.clf()\n",
      "pl.imshow(Z, interpolation='nearest',\n",
      "          extent=(xx.min(), xx.max(), yy.min(), yy.max()),\n",
      "          cmap=pl.cm.Paired,\n",
      "          aspect='auto', origin='lower')\n",
      "\n",
      "pl.plot(reduced_data[:, 0], reduced_data[:, 1], 'k.', markersize=2)\n",
      "# Plot the centroids as a white X\n",
      "centroids = kmeans.cluster_centers_\n",
      "pl.scatter(centroids[:, 0], centroids[:, 1],\n",
      "           marker='x', s=169, linewidths=3,\n",
      "           color='w', zorder=10)\n",
      "pl.title('K-means clustering on the digits dataset (PCA-reduced data)\\n'\n",
      "         'Centroids are marked with white cross')\n",
      "pl.xlim(x_min, x_max)\n",
      "pl.ylim(y_min, y_max)\n",
      "pl.xticks(())\n",
      "pl.yticks(())\n",
      "pl.show()"
     ],
     "language": "python",
     "metadata": {},
     "outputs": []
    }
   ],
   "metadata": {}
  }
 ]
}